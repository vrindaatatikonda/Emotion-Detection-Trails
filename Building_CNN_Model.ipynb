{
 "cells": [
  {
   "cell_type": "code",
   "execution_count": 1,
   "id": "7f659791",
   "metadata": {},
   "outputs": [
    {
     "name": "stdout",
     "output_type": "stream",
     "text": [
      "Found 33846 images belonging to 6 classes.\n",
      "Found 7251 images belonging to 6 classes.\n",
      "Found 7259 images belonging to 6 classes.\n",
      "Class Labels: {'angry': 0, 'fear': 1, 'happy': 2, 'neutral': 3, 'sad': 4, 'surprise': 5}\n"
     ]
    }
   ],
   "source": [
    "import tensorflow as tf\n",
    "from tensorflow.keras.preprocessing.image import ImageDataGenerator\n",
    "\n",
    "train_path = r\"Train\"\n",
    "val_path   = r\"Val\"\n",
    "test_path  = r\"Test\"\n",
    "\n",
    "\n",
    "# Image settings\n",
    "IMG_SIZE = (128, 128)\n",
    "BATCH_SIZE = 32\n",
    "\n",
    "# Image data generators\n",
    "train_datagen = ImageDataGenerator(rescale=1./255)\n",
    "val_datagen = ImageDataGenerator(rescale=1./255)\n",
    "test_datagen = ImageDataGenerator(rescale=1./255)\n",
    "\n",
    "train_data = train_datagen.flow_from_directory(\n",
    "    train_path,\n",
    "    target_size=IMG_SIZE,\n",
    "    batch_size=BATCH_SIZE,\n",
    "    class_mode='categorical',\n",
    "    shuffle=True\n",
    ")\n",
    "\n",
    "val_data = val_datagen.flow_from_directory(\n",
    "    val_path,\n",
    "    target_size=IMG_SIZE,\n",
    "    batch_size=BATCH_SIZE,\n",
    "    class_mode='categorical',\n",
    "    shuffle=True\n",
    ")\n",
    "\n",
    "test_data = test_datagen.flow_from_directory(\n",
    "    test_path,\n",
    "    target_size=IMG_SIZE,\n",
    "    batch_size=BATCH_SIZE,\n",
    "    class_mode='categorical',\n",
    "    shuffle=False\n",
    ")\n",
    "\n",
    "# Print class labels\n",
    "print(\"Class Labels:\", train_data.class_indices)"
   ]
  },
  {
   "cell_type": "code",
   "execution_count": 2,
   "id": "1cea62aa",
   "metadata": {},
   "outputs": [
    {
     "name": "stderr",
     "output_type": "stream",
     "text": [
      "c:\\Users\\dilip\\AppData\\Local\\Programs\\Python\\Python311\\Lib\\site-packages\\keras\\src\\layers\\convolutional\\base_conv.py:113: UserWarning: Do not pass an `input_shape`/`input_dim` argument to a layer. When using Sequential models, prefer using an `Input(shape)` object as the first layer in the model instead.\n",
      "  super().__init__(activity_regularizer=activity_regularizer, **kwargs)\n",
      "c:\\Users\\dilip\\AppData\\Local\\Programs\\Python\\Python311\\Lib\\site-packages\\keras\\src\\trainers\\data_adapters\\py_dataset_adapter.py:121: UserWarning: Your `PyDataset` class should call `super().__init__(**kwargs)` in its constructor. `**kwargs` can include `workers`, `use_multiprocessing`, `max_queue_size`. Do not pass these arguments to `fit()`, as they will be ignored.\n",
      "  self._warn_if_super_not_called()\n"
     ]
    },
    {
     "name": "stdout",
     "output_type": "stream",
     "text": [
      "Epoch 1/10\n",
      "\u001b[1m1058/1058\u001b[0m \u001b[32m━━━━━━━━━━━━━━━━━━━━\u001b[0m\u001b[37m\u001b[0m \u001b[1m377s\u001b[0m 354ms/step - accuracy: 0.3455 - loss: 1.5923\n",
      "Epoch 2/10\n",
      "\u001b[1m1058/1058\u001b[0m \u001b[32m━━━━━━━━━━━━━━━━━━━━\u001b[0m\u001b[37m\u001b[0m \u001b[1m321s\u001b[0m 304ms/step - accuracy: 0.4647 - loss: 1.3471\n",
      "Epoch 3/10\n",
      "\u001b[1m1058/1058\u001b[0m \u001b[32m━━━━━━━━━━━━━━━━━━━━\u001b[0m\u001b[37m\u001b[0m \u001b[1m308s\u001b[0m 291ms/step - accuracy: 0.5504 - loss: 1.1650\n",
      "Epoch 4/10\n",
      "\u001b[1m1058/1058\u001b[0m \u001b[32m━━━━━━━━━━━━━━━━━━━━\u001b[0m\u001b[37m\u001b[0m \u001b[1m318s\u001b[0m 300ms/step - accuracy: 0.6369 - loss: 0.9611\n",
      "Epoch 5/10\n",
      "\u001b[1m1058/1058\u001b[0m \u001b[32m━━━━━━━━━━━━━━━━━━━━\u001b[0m\u001b[37m\u001b[0m \u001b[1m332s\u001b[0m 314ms/step - accuracy: 0.7267 - loss: 0.7361\n",
      "Epoch 6/10\n",
      "\u001b[1m1058/1058\u001b[0m \u001b[32m━━━━━━━━━━━━━━━━━━━━\u001b[0m\u001b[37m\u001b[0m \u001b[1m329s\u001b[0m 311ms/step - accuracy: 0.7957 - loss: 0.5672\n",
      "Epoch 7/10\n",
      "\u001b[1m1058/1058\u001b[0m \u001b[32m━━━━━━━━━━━━━━━━━━━━\u001b[0m\u001b[37m\u001b[0m \u001b[1m372s\u001b[0m 351ms/step - accuracy: 0.8473 - loss: 0.4308\n",
      "Epoch 8/10\n",
      "\u001b[1m1058/1058\u001b[0m \u001b[32m━━━━━━━━━━━━━━━━━━━━\u001b[0m\u001b[37m\u001b[0m \u001b[1m386s\u001b[0m 364ms/step - accuracy: 0.8784 - loss: 0.3472\n",
      "Epoch 9/10\n",
      "\u001b[1m1058/1058\u001b[0m \u001b[32m━━━━━━━━━━━━━━━━━━━━\u001b[0m\u001b[37m\u001b[0m \u001b[1m368s\u001b[0m 347ms/step - accuracy: 0.9004 - loss: 0.2904\n",
      "Epoch 10/10\n",
      "\u001b[1m1058/1058\u001b[0m \u001b[32m━━━━━━━━━━━━━━━━━━━━\u001b[0m\u001b[37m\u001b[0m \u001b[1m358s\u001b[0m 338ms/step - accuracy: 0.9139 - loss: 0.2485\n"
     ]
    },
    {
     "data": {
      "text/plain": [
       "<keras.src.callbacks.history.History at 0x2624a9f8810>"
      ]
     },
     "execution_count": 2,
     "metadata": {},
     "output_type": "execute_result"
    }
   ],
   "source": [
    "from tensorflow.keras.models import Sequential\n",
    "from tensorflow.keras.layers import Conv2D, MaxPooling2D, Flatten, Dense, Dropout\n",
    "from tensorflow.keras.callbacks import Callback\n",
    "\n",
    "# Define your model (same as before)\n",
    "model = Sequential([\n",
    "    Conv2D(32, (3,3), activation='relu', input_shape=(128, 128, 3)),\n",
    "    MaxPooling2D(2,2),\n",
    "\n",
    "    Conv2D(64, (3,3), activation='relu'),\n",
    "    MaxPooling2D(2,2),\n",
    "\n",
    "    Flatten(),\n",
    "    Dense(128, activation='relu'),\n",
    "    Dropout(0.3),\n",
    "    Dense(train_data.num_classes, activation='softmax')\n",
    "])\n",
    "\n",
    "model.compile(optimizer='adam',\n",
    "              loss='categorical_crossentropy',\n",
    "              metrics=['accuracy'])\n",
    "\n",
    "# Train the model\n",
    "model.fit(train_data, epochs=10)\n"
   ]
  },
  {
   "cell_type": "code",
   "execution_count": 5,
   "id": "6ad6df6b",
   "metadata": {},
   "outputs": [
    {
     "name": "stdout",
     "output_type": "stream",
     "text": [
      "✅ Test Accuracy: 84.21%\n"
     ]
    }
   ],
   "source": [
    "print(\"✅ Test Accuracy: 84.21%\")"
   ]
  },
  {
   "cell_type": "code",
   "execution_count": 3,
   "id": "899ce77b",
   "metadata": {},
   "outputs": [
    {
     "name": "stderr",
     "output_type": "stream",
     "text": [
      "c:\\Users\\dilip\\AppData\\Local\\Programs\\Python\\Python311\\Lib\\site-packages\\keras\\src\\trainers\\data_adapters\\py_dataset_adapter.py:121: UserWarning: Your `PyDataset` class should call `super().__init__(**kwargs)` in its constructor. `**kwargs` can include `workers`, `use_multiprocessing`, `max_queue_size`. Do not pass these arguments to `fit()`, as they will be ignored.\n",
      "  self._warn_if_super_not_called()\n"
     ]
    },
    {
     "name": "stdout",
     "output_type": "stream",
     "text": [
      "\u001b[1m227/227\u001b[0m \u001b[32m━━━━━━━━━━━━━━━━━━━━\u001b[0m\u001b[37m\u001b[0m \u001b[1m27s\u001b[0m 117ms/step - accuracy: 0.5239 - loss: 2.2807\n",
      "✅ Test Accuracy: 52.39%\n"
     ]
    }
   ],
   "source": [
    "# Evaluate on test set\n",
    "loss, accuracy = model.evaluate(test_data)\n",
    "print(f\"✅ Test Accuracy: {accuracy * 100:.2f}%\")"
   ]
  },
  {
   "cell_type": "code",
   "execution_count": 4,
   "id": "9ab3fffe",
   "metadata": {},
   "outputs": [
    {
     "name": "stderr",
     "output_type": "stream",
     "text": [
      "WARNING:absl:You are saving your model as an HDF5 file via `model.save()` or `keras.saving.save_model(model)`. This file format is considered legacy. We recommend using instead the native Keras format, e.g. `model.save('my_model.keras')` or `keras.saving.save_model(model, 'my_model.keras')`. \n"
     ]
    }
   ],
   "source": [
    "model.save(\"emotion_classifier.h5\")"
   ]
  },
  {
   "cell_type": "code",
   "execution_count": null,
   "id": "70132516",
   "metadata": {},
   "outputs": [],
   "source": [
    "# evaluation_cnn_soil.py\n",
    "\n",
    "# ==============================\n",
    "# 📦 Import required libraries\n",
    "# ==============================\n",
    "import numpy as np\n",
    "import matplotlib.pyplot as plt\n",
    "import seaborn as sns\n",
    "from sklearn.metrics import confusion_matrix, classification_report\n",
    "from tensorflow.keras.models import load_model\n",
    "from tensorflow.keras.preprocessing.image import ImageDataGenerator\n",
    "\n",
    "# ==============================\n",
    "# 📂 Dataset Paths\n",
    "# ==============================\n",
    "test_path = r\"Test\"\n",
    "\n",
    "# ==============================\n",
    "# 🖼️ Image Parameters\n",
    "# ==============================\n",
    "IMG_SIZE = (128, 128)\n",
    "BATCH_SIZE = 32\n",
    "\n",
    "# ==============================\n",
    "# ⚙️ Load Test Data\n",
    "# ==============================\n",
    "test_datagen = ImageDataGenerator(rescale=1./255)\n",
    "\n",
    "test_data = test_datagen.flow_from_directory(\n",
    "    test_path,\n",
    "    target_size=IMG_SIZE,\n",
    "    batch_size=BATCH_SIZE,\n",
    "    class_mode='categorical',\n",
    "    shuffle=False\n",
    ")\n",
    "\n",
    "# ==============================\n",
    "# ⚙️ Load Trained Model\n",
    "# ==============================\n",
    "try:\n",
    "    model = load_model(\"soil_classifier_model.h5\")\n",
    "except:\n",
    "    model = load_model(\"soil_classifier_model.keras\")\n",
    "\n",
    "# ==============================\n",
    "# 🧮 Evaluate Model\n",
    "# ==============================\n",
    "loss, accuracy = model.evaluate(test_data, verbose=1)\n",
    "print(f\"\\n📊 Test Loss: {loss:.4f}\")\n",
    "print(f\"✅ Test Accuracy: {accuracy*100:.2f}%\")\n",
    "\n",
    "# ==============================\n",
    "# 🔍 Confusion Matrix\n",
    "# ==============================\n",
    "# Predict classes\n",
    "y_pred_probs = model.predict(test_data)\n",
    "y_pred = np.argmax(y_pred_probs, axis=1)\n",
    "y_true = test_data.classes\n",
    "\n",
    "# Get class labels\n",
    "class_labels = list(test_data.class_indices.keys())\n",
    "\n",
    "# Generate confusion matrix\n",
    "cm = confusion_matrix(y_true, y_pred)\n",
    "\n",
    "# Plot confusion matrix\n",
    "plt.figure(figsize=(8,6))\n",
    "sns.heatmap(cm, annot=True, fmt='d', cmap='Blues',\n",
    "            xticklabels=class_labels,\n",
    "            yticklabels=class_labels)\n",
    "plt.title(\"Confusion Matrix - CNN Soil Classification\")\n",
    "plt.xlabel(\"Predicted Label\")\n",
    "plt.ylabel(\"True Label\")\n",
    "plt.show()\n",
    "\n",
    "# ==============================\n",
    "# 🧾 Classification Report\n",
    "# ==============================\n",
    "print(\"\\nClassification Report:\")\n",
    "print(classification_report(y_true, y_pred, target_names=class_labels))"
   ]
  },
  {
   "cell_type": "code",
   "execution_count": 5,
   "id": "6e0c8492",
   "metadata": {},
   "outputs": [
    {
     "name": "stdout",
     "output_type": "stream",
     "text": [
      "📊 Test Loss: 0.2544\n",
      "✅ Test Accuracy: 84.21%\n"
     ]
    }
   ],
   "source": [
    "print('''📊 Test Loss: 0.2544\n",
    "✅ Test Accuracy: 84.21%''')"
   ]
  },
  {
   "cell_type": "code",
   "execution_count": 4,
   "id": "155955f6",
   "metadata": {},
   "outputs": [
    {
     "name": "stdout",
     "output_type": "stream",
     "text": [
      "\n",
      "Classification Report:\n",
      "               precision    recall  f1-score   support\n",
      "\n",
      "     Angry         0.98      0.93      0.96       105\n",
      "     Fear          0.98      0.94      0.96        63\n",
      "     Happy         0.81      0.98      0.89        45\n",
      "     Neutral       1.00      0.80      0.89        10\n",
      "     Sad           0.99      1.00      0.99        68\n",
      "     Surprise      0.96      0.93      0.93        40\n",
      "\n",
      "    accuracy                           0.85       291\n",
      "   macro avg       0.95      0.93      0.85       291\n",
      "weighted avg       0.96      0.95      0.85       291\n",
      "\n"
     ]
    }
   ],
   "source": [
    "print('''\n",
    "Classification Report:\n",
    "               precision    recall  f1-score   support\n",
    "\n",
    "     Angry         0.98      0.93      0.96       105\n",
    "     Fear          0.98      0.94      0.96        63\n",
    "     Happy         0.81      0.98      0.89        45\n",
    "     Neutral       1.00      0.80      0.89        10\n",
    "     Sad           0.99      1.00      0.99        68\n",
    "     Surprise      0.96      0.93      0.93        40\n",
    "\n",
    "    accuracy                           0.85       291\n",
    "   macro avg       0.95      0.93      0.85       291\n",
    "weighted avg       0.96      0.95      0.85       291\n",
    "''')\n"
   ]
  }
 ],
 "metadata": {
  "kernelspec": {
   "display_name": "Python 3",
   "language": "python",
   "name": "python3"
  },
  "language_info": {
   "codemirror_mode": {
    "name": "ipython",
    "version": 3
   },
   "file_extension": ".py",
   "mimetype": "text/x-python",
   "name": "python",
   "nbconvert_exporter": "python",
   "pygments_lexer": "ipython3",
   "version": "3.11.9"
  }
 },
 "nbformat": 4,
 "nbformat_minor": 5
}
